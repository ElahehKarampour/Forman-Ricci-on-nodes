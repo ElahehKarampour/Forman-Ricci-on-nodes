{
 "cells": [
  {
   "cell_type": "code",
   "execution_count": null,
   "id": "75f34207",
   "metadata": {},
   "outputs": [],
   "source": [
    "import networkx as nx\n",
    "import pylab as plt\n",
    "import pandas as pd\n",
    "import numpy as np\n",
    "from google.colab import autoviz\n",
    "from GraphRicciCurvature.FormanRicci import FormanRicci"
   ]
  },
  {
   "cell_type": "code",
   "execution_count": null,
   "id": "d9f30eb6",
   "metadata": {},
   "outputs": [],
   "source": [
    "G = nx.Graph()"
   ]
  },
  {
   "cell_type": "code",
   "execution_count": null,
   "id": "767dd77d",
   "metadata": {},
   "outputs": [],
   "source": [
    "G.add_edges_from([(1, 2), (2, 3), (2, 4), (4, 3),\n",
    "                  (4, 1), (1, 3), (1, 5), (3, 5),(5,6),(6,1),(7,2),(6,7),(8,4),(8,2),(9,10),(9,3),(10,1),(9,2),(10,2),(5,4),(7,3)\n",
    "                  ])"
   ]
  },
  {
   "cell_type": "code",
   "execution_count": null,
   "id": "540fc0d5",
   "metadata": {},
   "outputs": [],
   "source": [
    "plt.figure(figsize =(10, 10))\n",
    "nx.draw_networkx(G, with_labels = True)"
   ]
  },
  {
   "cell_type": "code",
   "execution_count": null,
   "id": "15003b96",
   "metadata": {},
   "outputs": [],
   "source": [
    "frc =FormanRicci(G, verbose=\"TRACE\")"
   ]
  },
  {
   "cell_type": "code",
   "execution_count": null,
   "id": "43e8028a",
   "metadata": {},
   "outputs": [],
   "source": [
    "frc.compute_ricci_curvature()"
   ]
  },
  {
   "cell_type": "code",
   "execution_count": null,
   "id": "8bd29e7c",
   "metadata": {},
   "outputs": [],
   "source": [
    "G_frc = frc.G.copy()"
   ]
  },
  {
   "cell_type": "code",
   "execution_count": null,
   "id": "ac89b973",
   "metadata": {},
   "outputs": [],
   "source": [
    "def show_results(G):\n",
    "    # Print the results\n",
    "    for n1,n2 in list(G.edges())[:]:\n",
    "        print(\"The Forman-Ricci curvature of edge (%s,%s) is: %f\" % (n1 ,n2, G[n1][n2][\"formanCurvature\"]))\n",
    "\n",
    "    # Plot the histogram of Ricci curvatures\n",
    "    plt.subplot(2, 1, 1)\n",
    "    ricci_curvtures = nx.get_edge_attributes(G, \"formanCurvature\").values()\n",
    "    plt.hist(ricci_curvtures,bins=20)\n",
    "    plt.xlabel('Ricci curvature')\n",
    "    plt.title(\"Histogram of Ricci Curvatures\")\n",
    "\n",
    "    plt.tight_layout()\n",
    "    print(ricci_curvtures)\n",
    "\n",
    "show_results(G_frc)"
   ]
  },
  {
   "cell_type": "code",
   "execution_count": null,
   "id": "8736ed9b",
   "metadata": {},
   "outputs": [],
   "source": [
    "edge_attr = nx.get_edge_attributes(G_frc,\"formanCurvature\")"
   ]
  },
  {
   "cell_type": "code",
   "execution_count": null,
   "id": "b91f7051",
   "metadata": {},
   "outputs": [],
   "source": [
    "edge_attr"
   ]
  },
  {
   "cell_type": "code",
   "execution_count": null,
   "id": "e2bdfbd5",
   "metadata": {},
   "outputs": [],
   "source": [
    "plt.figure()\n",
    "nx.draw(G_frc,pos=nx.spring_layout(G_frc),width=1, linewidths=1,labels={node: node for node in G_frc.nodes()})\n",
    "nx.draw_networkx_edge_labels(G_frc , pos=nx.spring_layout(G_frc),edge_labels=edge_attr)\n",
    "plt.axis('off')\n",
    "plt.show()"
   ]
  },
  {
   "cell_type": "code",
   "execution_count": null,
   "id": "e5c9e0bd",
   "metadata": {},
   "outputs": [],
   "source": [
    "array1 = []\n",
    "array2 = []\n",
    "df = pd.DataFrame()\n",
    "\n",
    "for i in G_frc:\n",
    " edges = G_frc.edges(i)\n",
    " forman = [G_frc[u][v][\"formanCurvature\"] for u,v in edges]\n",
    "\n",
    " array1.append(np.mean(forman))\n",
    " array2.append(G_frc.degree(i))\n",
    "\n",
    "df['Forman_curvature'] = array1\n",
    "df['Degree'] = array2\n",
    "df.index +=1\n",
    "print(df)"
   ]
  },
  {
   "cell_type": "code",
   "execution_count": null,
   "id": "fa772d07",
   "metadata": {},
   "outputs": [],
   "source": [
    "def scatter_plots(df, colname_pairs, figscale=0.5, alpha=.8):\n",
    "  from matplotlib import pyplot as plt\n",
    "  plt.figure(figsize=(len(colname_pairs) * 6 * figscale, 6 * figscale))\n",
    "  for plot_i, (x_colname, y_colname) in enumerate(colname_pairs, start=1):\n",
    "    ax = plt.subplot(1, len(colname_pairs), plot_i)\n",
    "    df.plot(kind='scatter', x=x_colname, y=y_colname, s=(12 * figscale) ,color='red', alpha=alpha, ax=ax)\n",
    "    ax.spines[['top', 'right',]].set_visible(False)\n",
    "  plt.tight_layout()\n",
    "  return autoviz.MplChart.from_current_mpl_state()\n",
    "\n",
    "chart = scatter_plots(df, *[[['Forman_curvature', 'Degree']]], **{})\n",
    "chart"
   ]
  }
 ],
 "metadata": {
  "kernelspec": {
   "display_name": "Python 3 (ipykernel)",
   "language": "python",
   "name": "python3"
  },
  "language_info": {
   "codemirror_mode": {
    "name": "ipython",
    "version": 3
   },
   "file_extension": ".py",
   "mimetype": "text/x-python",
   "name": "python",
   "nbconvert_exporter": "python",
   "pygments_lexer": "ipython3",
   "version": "3.9.7"
  }
 },
 "nbformat": 4,
 "nbformat_minor": 5
}
